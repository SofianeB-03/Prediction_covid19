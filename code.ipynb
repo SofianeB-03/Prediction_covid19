{
  "nbformat": 4,
  "nbformat_minor": 0,
  "metadata": {
    "colab": {
      "name": "code.ipynb",
      "provenance": [],
      "collapsed_sections": []
    },
    "kernelspec": {
      "name": "python3",
      "display_name": "Python 3"
    },
    "language_info": {
      "name": "python"
    }
  },
  "cells": [
    {
      "cell_type": "code",
      "execution_count": 1,
      "metadata": {
        "id": "R-isDW7ur4Ot"
      },
      "outputs": [],
      "source": [
        "#librairies\n",
        "\n",
        "import numpy as np\n",
        "import pandas as pd\n",
        "import matplotlib.pyplot as plt\n",
        "from sklearn.model_selection import train_test_split\n",
        "from sklearn.pipeline import make_pipeline\n",
        "from sklearn.preprocessing import PolynomialFeatures, StandardScaler\n",
        "from sklearn.ensemble import RandomForestClassifier\n",
        "from sklearn.neighbors import KNeighborsClassifier\n",
        "from sklearn.feature_selection import SelectKBest, f_classif"
      ]
    },
    {
      "cell_type": "code",
      "source": [
        "file = 'https://github.com/SofianeB-03/Prediction_covid19/blob/main/dataset.csv'\n",
        "data = pd.read_csv(file, index_col=0, encoding = \"ISO-8859-1\") #dataframe\n",
        "\n",
        "data = data.dropna(axis=0) #NA"
      ],
      "metadata": {
        "id": "emQWXEnEsluQ"
      },
      "execution_count": null,
      "outputs": []
    },
    {
      "cell_type": "code",
      "source": [
        "#split data\n",
        "\n",
        "trainset, testset = train_test_split(data, test_size=0.2, random_state=0)\n",
        "\n",
        "X_train = trainset.drop('SARS-Cov-2 exam result', axis=1)\n",
        "y_train = trainset['SARS-Cov-2 exam result']\n",
        "\n",
        "X_test = testset.drop('SARS-Cov-2 exam result', axis=1)\n",
        "y_test = testset['SARS-Cov-2 exam result']"
      ],
      "metadata": {
        "id": "Dgt7f-7Msmga"
      },
      "execution_count": null,
      "outputs": []
    },
    {
      "cell_type": "code",
      "source": [
        "#modèles predictifs\n",
        "preprocessor = make_pipeline(PolynomialFeatures(2, include_bias=False), SelectKBest(f_classif, k=10))\n",
        "RandomForest = make_pipeline(preprocessor, RandomForestClassifier(random_state=0))\n",
        "KNN = make_pipeline(preprocessor, StandardScaler(), KNeighborsClassifier())"
      ],
      "metadata": {
        "id": "ma4705VztGRZ"
      },
      "execution_count": null,
      "outputs": []
    },
    {
      "cell_type": "code",
      "source": [
        "#TO DO: ajouter code optimisation hyper-param\n",
        "from sklearn.model_selection import GridSearchCV, RandomizedSearchCV"
      ],
      "metadata": {
        "id": "pyXJtr02uZCz"
      },
      "execution_count": null,
      "outputs": []
    }
  ]
}